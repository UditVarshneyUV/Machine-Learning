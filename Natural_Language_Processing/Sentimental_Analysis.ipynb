{
 "cells": [
  {
   "cell_type": "code",
   "execution_count": 1,
   "metadata": {},
   "outputs": [],
   "source": [
    "import json as j\n",
    "import numpy as np\n",
    "import pandas as pd\n",
    "from sklearn.model_selection import train_test_split\n",
    "from sklearn.metrics import accuracy_score, recall_score, precision_score, f1_score,confusion_matrix,accuracy_score\n",
    "from sklearn.linear_model import LogisticRegression\n",
    "from sklearn.feature_extraction.text import TfidfTransformer, CountVectorizer"
   ]
  },
  {
   "cell_type": "code",
   "execution_count": 2,
   "metadata": {},
   "outputs": [
    {
     "output_type": "execute_result",
     "data": {
      "text/plain": "                                  votes                 user_id  \\\n0  {'funny': 0, 'useful': 5, 'cool': 2}  rLtl8ZkDX5vH5nAx9C3q5Q   \n1  {'funny': 0, 'useful': 0, 'cool': 0}  0a2KyEL0d3Yb1V6aivbIuQ   \n2  {'funny': 0, 'useful': 1, 'cool': 0}  0hT2KtfLiobPvh6cDC8JQg   \n3  {'funny': 0, 'useful': 2, 'cool': 1}  uZetl9T0NcROGOyFfughhg   \n4  {'funny': 0, 'useful': 0, 'cool': 0}  vYmM4KTsC8ZfQBg-j5MWkw   \n\n                review_id  stars        date  \\\n0  fWKvX83p0-ka4JS3dc6E5A      5  2011-01-26   \n1  IjZ33sJrzXqU-0X6U8NwyA      5  2011-07-27   \n2  IESLBzqUCLdSzSqm0eCSxQ      4  2012-06-14   \n3  G-WvGaISbqqaMHlNnByodA      5  2010-05-27   \n4  1uJFq2r5QfJG_6ExMRCaGw      5  2012-01-05   \n\n                                                text    type  \\\n0  My wife took me here on my birthday for breakf...  review   \n1  I have no idea why some people give bad review...  review   \n2  love the gyro plate. Rice is so good and I als...  review   \n3  Rosie, Dakota, and I LOVE Chaparral Dog Park!!...  review   \n4  General Manager Scott Petello is a good egg!!!...  review   \n\n              business_id  \n0  9yKzy9PApeiPPOUJEtnvkg  \n1  ZRJwVLyzEJq1VAihDhYiow  \n2  6oRAC4uyJCsJl1X0WZpVSA  \n3  _1QQZuf4zZOyFCvXc0o6Vg  \n4  6ozycU1RpktNG2-1BroVtw  ",
      "text/html": "<div>\n<style scoped>\n    .dataframe tbody tr th:only-of-type {\n        vertical-align: middle;\n    }\n\n    .dataframe tbody tr th {\n        vertical-align: top;\n    }\n\n    .dataframe thead th {\n        text-align: right;\n    }\n</style>\n<table border=\"1\" class=\"dataframe\">\n  <thead>\n    <tr style=\"text-align: right;\">\n      <th></th>\n      <th>votes</th>\n      <th>user_id</th>\n      <th>review_id</th>\n      <th>stars</th>\n      <th>date</th>\n      <th>text</th>\n      <th>type</th>\n      <th>business_id</th>\n    </tr>\n  </thead>\n  <tbody>\n    <tr>\n      <td>0</td>\n      <td>{'funny': 0, 'useful': 5, 'cool': 2}</td>\n      <td>rLtl8ZkDX5vH5nAx9C3q5Q</td>\n      <td>fWKvX83p0-ka4JS3dc6E5A</td>\n      <td>5</td>\n      <td>2011-01-26</td>\n      <td>My wife took me here on my birthday for breakf...</td>\n      <td>review</td>\n      <td>9yKzy9PApeiPPOUJEtnvkg</td>\n    </tr>\n    <tr>\n      <td>1</td>\n      <td>{'funny': 0, 'useful': 0, 'cool': 0}</td>\n      <td>0a2KyEL0d3Yb1V6aivbIuQ</td>\n      <td>IjZ33sJrzXqU-0X6U8NwyA</td>\n      <td>5</td>\n      <td>2011-07-27</td>\n      <td>I have no idea why some people give bad review...</td>\n      <td>review</td>\n      <td>ZRJwVLyzEJq1VAihDhYiow</td>\n    </tr>\n    <tr>\n      <td>2</td>\n      <td>{'funny': 0, 'useful': 1, 'cool': 0}</td>\n      <td>0hT2KtfLiobPvh6cDC8JQg</td>\n      <td>IESLBzqUCLdSzSqm0eCSxQ</td>\n      <td>4</td>\n      <td>2012-06-14</td>\n      <td>love the gyro plate. Rice is so good and I als...</td>\n      <td>review</td>\n      <td>6oRAC4uyJCsJl1X0WZpVSA</td>\n    </tr>\n    <tr>\n      <td>3</td>\n      <td>{'funny': 0, 'useful': 2, 'cool': 1}</td>\n      <td>uZetl9T0NcROGOyFfughhg</td>\n      <td>G-WvGaISbqqaMHlNnByodA</td>\n      <td>5</td>\n      <td>2010-05-27</td>\n      <td>Rosie, Dakota, and I LOVE Chaparral Dog Park!!...</td>\n      <td>review</td>\n      <td>_1QQZuf4zZOyFCvXc0o6Vg</td>\n    </tr>\n    <tr>\n      <td>4</td>\n      <td>{'funny': 0, 'useful': 0, 'cool': 0}</td>\n      <td>vYmM4KTsC8ZfQBg-j5MWkw</td>\n      <td>1uJFq2r5QfJG_6ExMRCaGw</td>\n      <td>5</td>\n      <td>2012-01-05</td>\n      <td>General Manager Scott Petello is a good egg!!!...</td>\n      <td>review</td>\n      <td>6ozycU1RpktNG2-1BroVtw</td>\n    </tr>\n  </tbody>\n</table>\n</div>"
     },
     "metadata": {},
     "execution_count": 2
    }
   ],
   "source": [
    "json_data = None\n",
    "with open('yelp_academic_dataset_review.json') as data_file:\n",
    "    lines = data_file.readlines()\n",
    "    joined_lines = \"[\" + \",\".join(lines) + \"]\"\n",
    "\n",
    "    json_data = j.loads(joined_lines)\n",
    "\n",
    "data = pd.DataFrame(json_data)\n",
    "data.head()"
   ]
  },
  {
   "cell_type": "code",
   "execution_count": 3,
   "metadata": {},
   "outputs": [
    {
     "output_type": "execute_result",
     "data": {
      "text/plain": "4    79878\n5    76193\n3    35363\n2    20957\n1    17516\nName: stars, dtype: int64"
     },
     "metadata": {},
     "execution_count": 3
    }
   ],
   "source": [
    "data['stars'].value_counts()"
   ]
  },
  {
   "cell_type": "code",
   "execution_count": 4,
   "metadata": {},
   "outputs": [],
   "source": [
    "data = data[data.stars != 3]\n",
    "data['sentiment'] = data['stars'] >= 4"
   ]
  },
  {
   "cell_type": "code",
   "execution_count": 5,
   "metadata": {},
   "outputs": [
    {
     "output_type": "execute_result",
     "data": {
      "text/plain": "                                  votes                 user_id  \\\n0  {'funny': 0, 'useful': 5, 'cool': 2}  rLtl8ZkDX5vH5nAx9C3q5Q   \n1  {'funny': 0, 'useful': 0, 'cool': 0}  0a2KyEL0d3Yb1V6aivbIuQ   \n2  {'funny': 0, 'useful': 1, 'cool': 0}  0hT2KtfLiobPvh6cDC8JQg   \n3  {'funny': 0, 'useful': 2, 'cool': 1}  uZetl9T0NcROGOyFfughhg   \n4  {'funny': 0, 'useful': 0, 'cool': 0}  vYmM4KTsC8ZfQBg-j5MWkw   \n\n                review_id  stars        date  \\\n0  fWKvX83p0-ka4JS3dc6E5A      5  2011-01-26   \n1  IjZ33sJrzXqU-0X6U8NwyA      5  2011-07-27   \n2  IESLBzqUCLdSzSqm0eCSxQ      4  2012-06-14   \n3  G-WvGaISbqqaMHlNnByodA      5  2010-05-27   \n4  1uJFq2r5QfJG_6ExMRCaGw      5  2012-01-05   \n\n                                                text    type  \\\n0  My wife took me here on my birthday for breakf...  review   \n1  I have no idea why some people give bad review...  review   \n2  love the gyro plate. Rice is so good and I als...  review   \n3  Rosie, Dakota, and I LOVE Chaparral Dog Park!!...  review   \n4  General Manager Scott Petello is a good egg!!!...  review   \n\n              business_id  sentiment  \n0  9yKzy9PApeiPPOUJEtnvkg       True  \n1  ZRJwVLyzEJq1VAihDhYiow       True  \n2  6oRAC4uyJCsJl1X0WZpVSA       True  \n3  _1QQZuf4zZOyFCvXc0o6Vg       True  \n4  6ozycU1RpktNG2-1BroVtw       True  ",
      "text/html": "<div>\n<style scoped>\n    .dataframe tbody tr th:only-of-type {\n        vertical-align: middle;\n    }\n\n    .dataframe tbody tr th {\n        vertical-align: top;\n    }\n\n    .dataframe thead th {\n        text-align: right;\n    }\n</style>\n<table border=\"1\" class=\"dataframe\">\n  <thead>\n    <tr style=\"text-align: right;\">\n      <th></th>\n      <th>votes</th>\n      <th>user_id</th>\n      <th>review_id</th>\n      <th>stars</th>\n      <th>date</th>\n      <th>text</th>\n      <th>type</th>\n      <th>business_id</th>\n      <th>sentiment</th>\n    </tr>\n  </thead>\n  <tbody>\n    <tr>\n      <td>0</td>\n      <td>{'funny': 0, 'useful': 5, 'cool': 2}</td>\n      <td>rLtl8ZkDX5vH5nAx9C3q5Q</td>\n      <td>fWKvX83p0-ka4JS3dc6E5A</td>\n      <td>5</td>\n      <td>2011-01-26</td>\n      <td>My wife took me here on my birthday for breakf...</td>\n      <td>review</td>\n      <td>9yKzy9PApeiPPOUJEtnvkg</td>\n      <td>True</td>\n    </tr>\n    <tr>\n      <td>1</td>\n      <td>{'funny': 0, 'useful': 0, 'cool': 0}</td>\n      <td>0a2KyEL0d3Yb1V6aivbIuQ</td>\n      <td>IjZ33sJrzXqU-0X6U8NwyA</td>\n      <td>5</td>\n      <td>2011-07-27</td>\n      <td>I have no idea why some people give bad review...</td>\n      <td>review</td>\n      <td>ZRJwVLyzEJq1VAihDhYiow</td>\n      <td>True</td>\n    </tr>\n    <tr>\n      <td>2</td>\n      <td>{'funny': 0, 'useful': 1, 'cool': 0}</td>\n      <td>0hT2KtfLiobPvh6cDC8JQg</td>\n      <td>IESLBzqUCLdSzSqm0eCSxQ</td>\n      <td>4</td>\n      <td>2012-06-14</td>\n      <td>love the gyro plate. Rice is so good and I als...</td>\n      <td>review</td>\n      <td>6oRAC4uyJCsJl1X0WZpVSA</td>\n      <td>True</td>\n    </tr>\n    <tr>\n      <td>3</td>\n      <td>{'funny': 0, 'useful': 2, 'cool': 1}</td>\n      <td>uZetl9T0NcROGOyFfughhg</td>\n      <td>G-WvGaISbqqaMHlNnByodA</td>\n      <td>5</td>\n      <td>2010-05-27</td>\n      <td>Rosie, Dakota, and I LOVE Chaparral Dog Park!!...</td>\n      <td>review</td>\n      <td>_1QQZuf4zZOyFCvXc0o6Vg</td>\n      <td>True</td>\n    </tr>\n    <tr>\n      <td>4</td>\n      <td>{'funny': 0, 'useful': 0, 'cool': 0}</td>\n      <td>vYmM4KTsC8ZfQBg-j5MWkw</td>\n      <td>1uJFq2r5QfJG_6ExMRCaGw</td>\n      <td>5</td>\n      <td>2012-01-05</td>\n      <td>General Manager Scott Petello is a good egg!!!...</td>\n      <td>review</td>\n      <td>6ozycU1RpktNG2-1BroVtw</td>\n      <td>True</td>\n    </tr>\n  </tbody>\n</table>\n</div>"
     },
     "metadata": {},
     "execution_count": 5
    }
   ],
   "source": [
    "data.head()"
   ]
  },
  {
   "cell_type": "code",
   "execution_count": 6,
   "metadata": {},
   "outputs": [
    {
     "output_type": "execute_result",
     "data": {
      "text/plain": "True     156071\nFalse     73836\nName: sentiment, dtype: int64"
     },
     "metadata": {},
     "execution_count": 6
    }
   ],
   "source": [
    "data['sentiment'].value_counts()"
   ]
  },
  {
   "cell_type": "code",
   "execution_count": 7,
   "metadata": {},
   "outputs": [
    {
     "output_type": "stream",
     "name": "stdout",
     "text": "[(70000,), (70000,)]\n"
    }
   ],
   "source": [
    "X = data['text'][:70000]\n",
    "Y = data.sentiment[:70000]\n",
    "print([X.shape, Y.shape])"
   ]
  },
  {
   "cell_type": "code",
   "execution_count": 8,
   "metadata": {},
   "outputs": [],
   "source": [
    "X_train, X_test, Y_train, Y_test = train_test_split(X, Y,test_size = 0.3, random_state=42)"
   ]
  },
  {
   "cell_type": "code",
   "execution_count": 9,
   "metadata": {},
   "outputs": [],
   "source": [
    "count = CountVectorizer()\n",
    "temp = count.fit_transform(X_train)\n",
    "tfid = TfidfTransformer()\n",
    "X_train_temp = tfid.fit_transform(temp)"
   ]
  },
  {
   "cell_type": "code",
   "execution_count": 10,
   "metadata": {},
   "outputs": [],
   "source": [
    "text_clf = LogisticRegression()\n",
    "model = text_clf.fit(X_train_temp, Y_train)"
   ]
  },
  {
   "cell_type": "code",
   "execution_count": 11,
   "metadata": {},
   "outputs": [
    {
     "output_type": "stream",
     "name": "stdout",
     "text": "86.14761904761905\n"
    }
   ],
   "source": [
    "Y_pred = model.predict(tfid.transform(count.transform(X_test)))\n",
    "print(np.mean(Y_pred == Y_test)*100)"
   ]
  },
  {
   "cell_type": "code",
   "execution_count": 12,
   "metadata": {},
   "outputs": [
    {
     "output_type": "stream",
     "name": "stdout",
     "text": "Total No. of Observations : 21000\nPositive Observations : 14342\nNegative Observations : 6658\nMajority Class is : 68.29523809523809%\n"
    }
   ],
   "source": [
    "# Make Predictions\n",
    "\n",
    "print(\"Total No. of Observations : \" + str(len(Y_test.values)))\n",
    "print(\"Positive Observations : \" + str(sum(Y_test.values)))\n",
    "print(\"Negative Observations : \" + str(len(Y_test.values) - sum(Y_test.values)))\n",
    "\n",
    "print(\"Majority Class is : \" + str((sum(Y_test.values)/len(Y_test.values))*100) + \"%\")"
   ]
  },
  {
   "cell_type": "code",
   "execution_count": 13,
   "metadata": {},
   "outputs": [
    {
     "output_type": "stream",
     "name": "stdout",
     "text": "confusion matrix: \n[[ 4728  1930]\n [  979 13363]]\naccuracy score: 86.15 %\nprecision score: 87.38 %\nrecall score: 93.17 %\nf1-score: 90.18 %\n"
    }
   ],
   "source": [
    "print(\"confusion matrix: \\n\" + str(confusion_matrix(Y_test, Y_pred)))\n",
    "print(\"accuracy score: {0:.2f}\".format((accuracy_score(Y_test, Y_pred)*100)),\"%\")\n",
    "print(\"precision score: {0:.2f}\".format((precision_score(Y_test, Y_pred)*100)),\"%\")\n",
    "print(\"recall score: {0:.2f}\".format((recall_score(Y_test, Y_pred)*100)),\"%\")\n",
    "print(\"f1-score: {0:.2f}\".format((f1_score(Y_test, Y_pred)*100)),\"%\")"
   ]
  },
  {
   "cell_type": "code",
   "execution_count": 14,
   "metadata": {},
   "outputs": [],
   "source": [
    "# Using PIPELINE\n",
    "from sklearn.pipeline import Pipeline"
   ]
  },
  {
   "cell_type": "code",
   "execution_count": 15,
   "metadata": {},
   "outputs": [
    {
     "output_type": "stream",
     "name": "stdout",
     "text": "0.8574693877551021\n0.004023773583660189\n{'memory': None, 'steps': [('vectorizer', CountVectorizer()), ('tfidf', TfidfTransformer()), ('classifier', LogisticRegression())], 'verbose': False, 'vectorizer': CountVectorizer(), 'tfidf': TfidfTransformer(), 'classifier': LogisticRegression(), 'vectorizer__analyzer': 'word', 'vectorizer__binary': False, 'vectorizer__decode_error': 'strict', 'vectorizer__dtype': <class 'numpy.int64'>, 'vectorizer__encoding': 'utf-8', 'vectorizer__input': 'content', 'vectorizer__lowercase': True, 'vectorizer__max_df': 1.0, 'vectorizer__max_features': None, 'vectorizer__min_df': 1, 'vectorizer__ngram_range': (1, 1), 'vectorizer__preprocessor': None, 'vectorizer__stop_words': None, 'vectorizer__strip_accents': None, 'vectorizer__token_pattern': '(?u)\\\\b\\\\w\\\\w+\\\\b', 'vectorizer__tokenizer': None, 'vectorizer__vocabulary': None, 'tfidf__norm': 'l2', 'tfidf__smooth_idf': True, 'tfidf__sublinear_tf': False, 'tfidf__use_idf': True, 'classifier__C': 1.0, 'classifier__class_weight': None, 'classifier__dual': False, 'classifier__fit_intercept': True, 'classifier__intercept_scaling': 1, 'classifier__l1_ratio': None, 'classifier__max_iter': 100, 'classifier__multi_class': 'auto', 'classifier__n_jobs': None, 'classifier__penalty': 'l2', 'classifier__random_state': None, 'classifier__solver': 'lbfgs', 'classifier__tol': 0.0001, 'classifier__verbose': 0, 'classifier__warm_start': False}\n"
    }
   ],
   "source": [
    "pipeline = Pipeline([\n",
    "    ('vectorizer', CountVectorizer()),\n",
    "    ('tfidf', TfidfTransformer()),\n",
    "    ('classifier', LogisticRegression())\n",
    "])\n",
    "# Using K-Fold\n",
    "from sklearn.model_selection import cross_val_score\n",
    "scores = cross_val_score(pipeline,X_train,Y_train,cv=5,n_jobs=-1,scoring='accuracy')\n",
    "mean_score = scores.mean()\n",
    "std_score = scores.std()\n",
    "print(mean_score)\n",
    "print(std_score)\n",
    "\n",
    "print(pipeline.get_params())\n"
   ]
  },
  {
   "cell_type": "code",
   "execution_count": null,
   "metadata": {},
   "outputs": [],
   "source": []
  }
 ],
 "metadata": {
  "language_info": {
   "codemirror_mode": {
    "name": "ipython",
    "version": 3
   },
   "file_extension": ".py",
   "mimetype": "text/x-python",
   "name": "python",
   "nbconvert_exporter": "python",
   "pygments_lexer": "ipython3",
   "version": "3.7.4-final"
  },
  "orig_nbformat": 2,
  "kernelspec": {
   "name": "python3",
   "display_name": "Python 3"
  }
 },
 "nbformat": 4,
 "nbformat_minor": 2
}